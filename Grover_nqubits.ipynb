{
 "cells": [
  {
   "cell_type": "markdown",
   "id": "09cc5c3e",
   "metadata": {},
   "source": [
    "# Grover's algorithm "
   ]
  },
  {
   "cell_type": "markdown",
   "id": "7e7bffee",
   "metadata": {},
   "source": [
    "*Authors*: Júlia Barberà, 23 february 2022"
   ]
  },
  {
   "cell_type": "markdown",
   "id": "73cabc90",
   "metadata": {},
   "source": [
    "This notebook presents a demonstration of how Grover's algorithm performs when we want to find an element from a list. It also shows how the results converge as $\\sqrt(N)$ with $N = 2^{nqubits}$.\n",
    " <br>\n",
    " \n",
    "We use an arbitrary number of qubits, in our case 4, to show the results but it could be done with a different value of $nqubits$. "
   ]
  },
  {
   "cell_type": "markdown",
   "id": "7cec2f3c",
   "metadata": {},
   "source": [
    "The code is written using Qibo language and qibojit, qibotf, tensorflow, numpy simulator as a default backend."
   ]
  },
  {
   "cell_type": "markdown",
   "id": "fca1f552",
   "metadata": {},
   "source": [
    "__Table of contents:__\n",
    "1. Defining functions\n",
    "    1. Binary to decimal function\n",
    "    1. MCZ gate \n",
    "    1. Grover's Oracle \n",
    "    1. Diffusion operator \n",
    "\n",
    "\n",
    "2. Main code: Grover's algorithm\n",
    "    1. Grover's algorithm for 5 qubits\n",
    "    1. Plots"
   ]
  },
  {
   "cell_type": "code",
   "execution_count": 2,
   "id": "ffdb588e",
   "metadata": {},
   "outputs": [],
   "source": [
    "# Import all libraries that I will use\n",
    "import numpy as np\n",
    "from qibo.models import Circuit\n",
    "from qibo import gates\n",
    "from qibo import callbacks\n",
    "import matplotlib.pyplot as plt\n",
    "import time "
   ]
  },
  {
   "cell_type": "markdown",
   "id": "f0f58b97",
   "metadata": {},
   "source": [
    "## Functions\n"
   ]
  },
  {
   "cell_type": "markdown",
   "id": "c2de8d16",
   "metadata": {},
   "source": [
    "Firstly, we introduce some functions that we will use in the main code. They will be universal for any state we want to find. "
   ]
  },
  {
   "cell_type": "markdown",
   "id": "4eed816f",
   "metadata": {},
   "source": [
    "### Binary to decimal function"
   ]
  },
  {
   "cell_type": "markdown",
   "id": "7042fd75",
   "metadata": {},
   "source": [
    "There are two methods to convert a binary number into a decimal number and we will be using one of them: using the positional notation. The weight of the positions will be $2^0, 2^1, 2^2, 2^3,...$ so the first thing we need to do is count the number of digits (positions) the binary number has. Then, these weigths will be multiplying the digit corresponding to its binary number (0 or 1). Finallly, we will sum everything. Let's assume our binray number is $10110$:\n",
    "\n",
    "\n",
    "<br>\n",
    "\n",
    "<center> decimal number $= 1 \\cdot 2^4 + 0 \\cdot 2^3 + 1 \\cdot 2^2 + 1 \\cdot 2^1 + 0 \\cdot 2^0 = 22 $ </center>\n",
    "\n",
    "\n",
    "<br>\n",
    "\n",
    "The binary state will be the one we want to find and we will use this function to convert the state in order to find the inverting matrix. "
   ]
  },
  {
   "cell_type": "code",
   "execution_count": 3,
   "id": "cc1f34b6",
   "metadata": {},
   "outputs": [],
   "source": [
    "def binary_to_decimal(binary_number):\n",
    "    decimal_number = 0 #Initialize the number \n",
    "\n",
    "    for position, string_digit in enumerate(binary_number[::-1]):\n",
    "        decimal_number += int(string_digit) * 2 ** position\n",
    "\n",
    "    return decimal_number\n"
   ]
  },
  {
   "cell_type": "markdown",
   "id": "2f384acc",
   "metadata": {},
   "source": [
    "### Multi-controlled Z gate "
   ]
  },
  {
   "cell_type": "markdown",
   "id": "a810f3f0",
   "metadata": {},
   "source": [
    "The CZ gate is used to invert the phase of the state $|11...1\\rangle$. To make it easier we can express the CZ gate in terms of other quantum gates: $Z = H X H$. \n",
    "So the MCZ of the circuit will have the following transformation: "
   ]
  },
  {
   "attachments": {
    "MCZ.png": {
     "image/png": "[encoded data removed]"
    }
   },
   "cell_type": "markdown",
   "id": "d3ff26d2",
   "metadata": {},
   "source": [
    "![MCZ.png](attachment:MCZ.png)"
   ]
  },
  {
   "cell_type": "markdown",
   "id": "da700bac",
   "metadata": {},
   "source": [
    "We will use this gate for the Oracle and the Difussion operator. "
   ]
  },
  {
   "cell_type": "code",
   "execution_count": 4,
   "id": "78608e80",
   "metadata": {},
   "outputs": [],
   "source": [
    "def MCZ(q0,nqubits): # defining multi-controlled Z function \n",
    "    c.add(gates.H(q0))\n",
    "    c.add(gates.X(q0).controlled_by(*range(1,nqubits)))\n",
    "    c.add(gates.H(q0))\n",
    "    return c "
   ]
  },
  {
   "cell_type": "markdown",
   "id": "bb621568",
   "metadata": {},
   "source": [
    "### Grover's oracle: $U_w$"
   ]
  },
  {
   "cell_type": "markdown",
   "id": "ad463c5a",
   "metadata": {},
   "source": [
    "The Grover's oracle generates a reflection to the state we want to find. Imagine we have the following superposition ($nqubits = 2$): $|s\\rangle = \\frac{1}{\\sqrt{2}} (|00 \\rangle +|01 \\rangle +|10 \\rangle +|11 \\rangle) $ and we want to find the state $|10 \\rangle$. When we apply the oracle to the initial state it will turn into: <center> $U_w|s\\rangle = \\frac{1}{\\sqrt{2}} (|00 \\rangle +|01 \\rangle -|10 \\rangle +|11 \\rangle) $ \n",
    "    \n",
    "We can recognize that the CZ quantum gate is the one that performs this operation. But firstly, we will create a classical diagonal matrix filled with ones on the diagonal except the position that corresponds to the state we want to find which will have the value -1 in order to flip the state.  "
   ]
  },
  {
   "cell_type": "code",
   "execution_count": 5,
   "id": "ec1b3489",
   "metadata": {},
   "outputs": [],
   "source": [
    "def oracle_general(nqubits,state):\n",
    "    \n",
    "    inv_matrix = np.zeros( (2**nqubits, 2**nqubits) ) \n",
    "\n",
    "    for i in range(0,2**nqubits):\n",
    "        for j in range(0,2**nqubits):\n",
    "            if i == j:\n",
    "                if i == state : \n",
    "                    inv_matrix[i][j] = -1 #add a -1 in order to flip the state\n",
    "                else:\n",
    "                    inv_matrix[i][j] = 1 \n",
    "\n",
    "    return c.add(gates.Unitary(inv_matrix,*range(0,nqubits)))\n",
    "    "
   ]
  },
  {
   "cell_type": "markdown",
   "id": "bf65e88a",
   "metadata": {},
   "source": [
    "### Grover's diffusion operator: $U_s$"
   ]
  },
  {
   "cell_type": "markdown",
   "id": "2a3c85ba",
   "metadata": {},
   "source": [
    "This operator, expressed like: $U_s = 2|s\\rangle \\langle s | - I$,  will be applied after the Oracle, and will perform an extra reflection to the state $U_w |s\\rangle$. It will aplificate the state we want to find making it have a much greater probability than the other ones. The Difussion operator will have the following form: "
   ]
  },
  {
   "attachments": {
    "Difusion_op.png": {
     "image/png": "[encoded data removed]"
    }
   },
   "cell_type": "markdown",
   "id": "1ce9c0a5",
   "metadata": {},
   "source": [
    "![Difusion_op.png](attachment:Difusion_op.png)"
   ]
  },
  {
   "cell_type": "markdown",
   "id": "4d406d05",
   "metadata": {},
   "source": [
    "The hadamard gates will create a superposition of all states. Then, the X gate performs a qubit-flip (it is the equivalent to the NOT classical gate) so it makes a rotation by π radians around the x-axis of the Bloch sphere. When we have the states fliped..."
   ]
  },
  {
   "cell_type": "code",
   "execution_count": 26,
   "id": "4d8d0943",
   "metadata": {},
   "outputs": [],
   "source": [
    "def difussion(q0,nqubits): \n",
    "\n",
    "    c.add([gates.H(i) for i in range(nqubits)])\n",
    "        \n",
    "    c.add([gates.X(i) for i in range(nqubits)])\n",
    "        \n",
    "    MCZ(q0,nqubits) #q0 is the target and the other ones control qubits\n",
    "    \n",
    "    c.add([gates.X(i) for i in range(nqubits)])\n",
    "    \n",
    "    c.add([gates.H(i) for i in range(nqubits)])\n",
    "    \n",
    "    return c"
   ]
  },
  {
   "cell_type": "markdown",
   "id": "80e55fb6",
   "metadata": {},
   "source": [
    "## Main code: Grover's algorithm "
   ]
  },
  {
   "cell_type": "markdown",
   "id": "73761371",
   "metadata": {},
   "source": [
    "### Grover's algorithm for 5 qubits"
   ]
  },
  {
   "cell_type": "code",
   "execution_count": 27,
   "id": "6aa3f1f7",
   "metadata": {},
   "outputs": [
    {
     "name": "stdout",
     "output_type": "stream",
     "text": [
      "How many qubits does the circuit have? 4\n",
      "Which state do you want to find? 10\n",
      "\n",
      "\n",
      "Number of times we apply the oracle: 3\n",
      "\n",
      "It took 0.021987199783325195 seconds to find the state\n",
      "\n",
      "q0: ─H─U─H─X─H─X─H─X─H─U─H─X─H─X─H─X─H─U─H─X─H─X─H─X─H─\n",
      "q1: ─H─U─H─X───o─X─H───U─H─X───o─X─H───U─H─X───o─X─H───\n",
      "q2: ─H─U─H─X───o─X─H───U─H─X───o─X─H───U─H─X───o─X─H───\n",
      "q3: ─H─U─H─X───o─X─H───U─H─X───o─X─H───U─H─X───o─X─H───\n"
     ]
    }
   ],
   "source": [
    "nqubits = int(input(\"How many qubits does the circuit have? \"))\n",
    "state = int(input(\"Which state do you want to find? \"))\n",
    "\n",
    "print()\n",
    "print()\n",
    "\n",
    "c = Circuit(nqubits) # Construct the circuit (2 qubits)\n",
    "\n",
    "start_time = time.time()\n",
    "\n",
    "c.add([gates.H(i) for i in range(nqubits)])\n",
    "\n",
    "R = int((np.pi/4)*np.sqrt(2**nqubits))\n",
    "print(\"Number of times we apply the oracle:\", R)\n",
    "print()\n",
    "\n",
    "for i in range(0,R):\n",
    "    # Rotation of the state we are searching for \n",
    "    oracle_general(nqubits,state) \n",
    "\n",
    "    difussion(0,nqubits)\n",
    "    \n",
    "\n",
    "# Execute the circuit and obtain the final state\n",
    "result = c() \n",
    "\n",
    "print(\"It took %s seconds to find the state\" % (time.time()-start_time))\n",
    "print()\n",
    "# Draw the circuit\n",
    "print(c.draw())"
   ]
  },
  {
   "cell_type": "markdown",
   "id": "5289a0c9",
   "metadata": {},
   "source": [
    "### Plots"
   ]
  },
  {
   "cell_type": "markdown",
   "id": "62ce01ff",
   "metadata": {},
   "source": [
    "The plot will show, from all states available (created by nqubits), the one with more probability which corresponds to the one we were searching for."
   ]
  },
  {
   "cell_type": "code",
   "execution_count": 28,
   "id": "fa230282",
   "metadata": {},
   "outputs": [
    {
     "data": {
      "image/png": "[encoded data removed]",
      "text/plain": [
       "<Figure size 432x288 with 1 Axes>"
      ]
     },
     "metadata": {
      "needs_background": "light"
     },
     "output_type": "display_data"
    }
   ],
   "source": [
    "x = range(2**nqubits) \n",
    "y = result.state(numpy=True)\n",
    "\n",
    "prob = [x*x.conjugate() for x in y] # elevating coeficients = probability \n",
    "\n",
    "fig, ax = plt.subplots()\n",
    "\n",
    "ax.bar(x, prob, width=1, edgecolor=\"white\", linewidth=0.7)\n",
    "ax.set(ylim=(0, 1), xlabel = 'states', ylabel = 'probabilities')\n",
    "\n",
    "i=0 #writes the probability of each state \n",
    "for el in prob:\n",
    "    ax.text(i-0.5,el+0.03, str(round(el.real, 2)), fontsize=10)\n",
    "    i=i+1\n",
    "\n",
    "plt.show()"
   ]
  },
  {
   "cell_type": "markdown",
   "id": "4fa3907d",
   "metadata": {},
   "source": [
    "### Comaprison with classical method"
   ]
  },
  {
   "cell_type": "code",
   "execution_count": 33,
   "id": "5189a60b",
   "metadata": {},
   "outputs": [
    {
     "name": "stdout",
     "output_type": "stream",
     "text": [
      "S'ha trobat l'estat 10 en 0.00012111663818359375 seconds\n"
     ]
    }
   ],
   "source": [
    "lista = np.arange(2**nqubits)\n",
    "\n",
    "np.random.shuffle(lista)\n",
    "\n",
    "start_time = time.time()\n",
    "\n",
    "for el in lista:\n",
    "    if el == state:\n",
    "        print(\"S'ha trobat l'estat\", state, \"en %s seconds\" % (time.time()-start_time))"
   ]
  },
  {
   "cell_type": "code",
   "execution_count": null,
   "id": "ddcf09ff",
   "metadata": {},
   "outputs": [],
   "source": []
  }
 ],
 "metadata": {
  "kernelspec": {
   "display_name": "Python 3",
   "language": "python",
   "name": "python3"
  },
  "language_info": {
   "codemirror_mode": {
    "name": "ipython",
    "version": 3
   },
   "file_extension": ".py",
   "mimetype": "text/x-python",
   "name": "python",
   "nbconvert_exporter": "python",
   "pygments_lexer": "ipython3",
   "version": "3.8.8"
  }
 },
 "nbformat": 4,
 "nbformat_minor": 5
}
