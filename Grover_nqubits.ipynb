{
 "cells": [
  {
   "cell_type": "markdown",
   "id": "ddb0a83a",
   "metadata": {},
   "source": [
    "# Grover's algorithm "
   ]
  },
  {
   "cell_type": "markdown",
   "id": "9c7445da",
   "metadata": {},
   "source": [
    "*Author*: Júlia Barberà, March 3rd 2022"
   ]
  },
  {
   "cell_type": "markdown",
   "id": "ea7753e6",
   "metadata": {},
   "source": [
    "This notebook presents a demonstration of how Grover's algorithm performs when we want to find an element from a list. It also shows how the results converge as $\\sqrt(N)$ with $N = 2^{nqubits}$.\n",
    " <br>\n",
    " \n",
    "We use an arbitrary number of qubits, in our case 3, to show the results but it could be done with a different value of $nqubits$. "
   ]
  },
  {
   "cell_type": "markdown",
   "id": "e2287f08",
   "metadata": {},
   "source": [
    "The code is written using Qibo language and qibojit, qibotf, tensorflow, numpy simulator as a default backend."
   ]
  },
  {
   "cell_type": "markdown",
   "id": "733db8c8",
   "metadata": {},
   "source": [
    "__Table of contents:__\n",
    "1. Defining functions\n",
    "    1. Binary to decimal function\n",
    "    1. MCZ gate \n",
    "    1. Grover's Oracle \n",
    "    1. Diffusion operator \n",
    "\n",
    "\n",
    "2. Main code: Grover's algorithm\n",
    "    1. Grover's algorithm for 5 qubits\n",
    "    1. Plots\n",
    "    \n",
    "    \n",
    "3. Scan with n=2,...,8 qubits\n",
    "    1. Quantum algorithm (Grover's)\n",
    "    1. Classical algorithm\n",
    "    1. Plot comparison"
   ]
  },
  {
   "cell_type": "code",
   "execution_count": 2,
   "id": "efa6ebc8",
   "metadata": {},
   "outputs": [],
   "source": [
    "# Import all libraries that I will use\n",
    "import numpy as np\n",
    "from qibo.models import Circuit\n",
    "from qibo import gates\n",
    "from qibo import callbacks\n",
    "import matplotlib.pyplot as plt"
   ]
  },
  {
   "cell_type": "markdown",
   "id": "f0f58b97",
   "metadata": {},
   "source": [
    "## Functions\n"
   ]
  },
  {
   "cell_type": "markdown",
   "id": "5322dfcc",
   "metadata": {},
   "source": [
    "Firstly, we introduce some functions that we will use in the main code. They will be universal for any state we want to find. "
   ]
  },
  {
   "cell_type": "markdown",
   "id": "e723cd00",
   "metadata": {},
   "source": [
    "### Binary to decimal function"
   ]
  },
  {
   "cell_type": "markdown",
   "id": "2a11d3bd",
   "metadata": {},
   "source": [
    "There are two methods to convert a binary number into a decimal number and we will be using one of them: using the positional notation. The weight of the positions will be $2^0, 2^1, 2^2, 2^3,...$ so the first thing we need to do is count the number of digits (positions) the binary number has. Then, these weigths will be multiplying the digit corresponding to its binary number (0 or 1). Finallly, we will sum everything. Let's assume our binray number is $10110$:\n",
    "\n",
    "\n",
    "<br>\n",
    "\n",
    "<center> decimal number $= 1 \\cdot 2^4 + 0 \\cdot 2^3 + 1 \\cdot 2^2 + 1 \\cdot 2^1 + 0 \\cdot 2^0 = 22 $ </center>\n",
    "\n",
    "\n",
    "<br>\n",
    "\n",
    "The binary state will be the one we want to find and we will use this function to convert the state in order to find the inverting matrix. "
   ]
  },
  {
   "cell_type": "code",
   "execution_count": 4,
   "id": "cc1f34b6",
   "metadata": {},
   "outputs": [],
   "source": [
    "def binary_to_decimal(binary_number):\n",
    "    decimal_number = 0 #Initialize the number \n",
    "\n",
    "    for position, string_digit in enumerate(binary_number[::-1]):\n",
    "        decimal_number += int(string_digit) * 2 ** position\n",
    "\n",
    "    return decimal_number\n"
   ]
  },
  {
   "cell_type": "markdown",
   "id": "8d780332",
   "metadata": {},
   "source": [
    "### Multi-controlled Z gate "
   ]
  },
  {
   "cell_type": "markdown",
   "id": "566cdd58",
   "metadata": {},
   "source": [
    "The CZ gate is used to invert the phase of the state $|11...1\\rangle$. To make it easier we can express the CZ gate in terms of other quantum logic gates: $Z = H X H$. \n",
    "So the MCZ of the circuit will have the following transformation: "
   ]
  },
  {
   "attachments": {
    "MCZ.png": {
     "image/png": "[encoded data removed]"
    }
   },
   "cell_type": "markdown",
   "id": "7e072b5c",
   "metadata": {},
   "source": [
    "![MCZ.png](attachment:MCZ.png)"
   ]
  },
  {
   "cell_type": "markdown",
   "id": "68766b27",
   "metadata": {},
   "source": [
    "We will use this gate for the Oracle and the Diffusion operator. "
   ]
  },
  {
   "cell_type": "code",
   "execution_count": 5,
   "id": "665f25d3",
   "metadata": {},
   "outputs": [],
   "source": [
    "def MCZ(q0,nqubits): # defining multi-controlled Z function \n",
    "    c.add(gates.H(q0))\n",
    "    c.add(gates.X(q0).controlled_by(*range(1,nqubits)))\n",
    "    c.add(gates.H(q0))\n",
    "    return c "
   ]
  },
  {
   "cell_type": "markdown",
   "id": "3fafd27b",
   "metadata": {},
   "source": [
    "### Grover's oracle: $U_w$"
   ]
  },
  {
   "cell_type": "markdown",
   "id": "16f6c5fb",
   "metadata": {},
   "source": [
    "The Grover's oracle generates a reflection to the state we want to find. Imagine we have the following superposition ($nqubits = 2$): $|s\\rangle = \\frac{1}{\\sqrt{2}} (|00 \\rangle +|01 \\rangle +|10 \\rangle +|11 \\rangle) $ and we want to find the state $|10 \\rangle$. When we apply the oracle to the initial state it will turn into: <center> $U_w|s\\rangle = \\frac{1}{\\sqrt{2}} (|00 \\rangle +|01 \\rangle -|10 \\rangle +|11 \\rangle) $ \n",
    "    \n",
    "We can recognize that the CZ quantum gate is the one that performs this operation. But firstly, we will create a classical diagonal matrix filled with ones on the diagonal except the position that corresponds to the state we want to find which will have the value -1 in order to flip the state.  "
   ]
  },
  {
   "cell_type": "code",
   "execution_count": 6,
   "id": "ec1b3489",
   "metadata": {},
   "outputs": [],
   "source": [
    "def oracle_general(nqubits,state):\n",
    "    \n",
    "    inv_matrix = np.zeros( (2**nqubits, 2**nqubits) ) \n",
    "\n",
    "    for i in range(0,2**nqubits):\n",
    "        for j in range(0,2**nqubits):\n",
    "            if i == j:\n",
    "                if i == state : \n",
    "                    inv_matrix[i][j] = -1 #add a -1 in order to flip the state\n",
    "                else:\n",
    "                    inv_matrix[i][j] = 1 \n",
    "\n",
    "    return c.add(gates.Unitary(inv_matrix,*range(0,nqubits)))\n",
    "    "
   ]
  },
  {
   "cell_type": "markdown",
   "id": "e324017f",
   "metadata": {},
   "source": [
    "### Grover's diffusion operator: $U_s$"
   ]
  },
  {
   "cell_type": "markdown",
   "id": "d87d48e4",
   "metadata": {},
   "source": [
    "This operator, expressed like: $U_s = 2|s\\rangle \\langle s | - I$,  will be applied after the Oracle, and will perform an extra reflection to the state $U_w |s\\rangle$. It will aplificate the state we want to find, making it have a much greater probability than the other ones. The Diffusion operator will have the following universal form : "
   ]
  },
  {
   "attachments": {
    "Difusion_op.png": {
     "image/png": "[encoded data removed]"
    }
   },
   "cell_type": "markdown",
   "id": "0a1e65df",
   "metadata": {},
   "source": [
    "![Difusion_op.png](attachment:Difusion_op.png)"
   ]
  },
  {
   "cell_type": "markdown",
   "id": "41d2d39c",
   "metadata": {},
   "source": [
    "The hadamard gates will create a superposition of all states. Then, the X gate performs a qubit-flip (it is the equivalent to the NOT classical gate) so it makes a rotation by π radians around the x-axis of the Bloch sphere. When we have the states fliped..."
   ]
  },
  {
   "cell_type": "code",
   "execution_count": 7,
   "id": "4d8d0943",
   "metadata": {},
   "outputs": [],
   "source": [
    "def diffusion(q0,nqubits): \n",
    "\n",
    "    c.add([gates.H(i) for i in range(nqubits)])     \n",
    "    c.add([gates.X(i) for i in range(nqubits)])   \n",
    "    MCZ(q0,nqubits) #q0 is the target and the other ones, control qubits\n",
    "    c.add([gates.X(i) for i in range(nqubits)])\n",
    "    c.add([gates.H(i) for i in range(nqubits)])\n",
    "    \n",
    "    return c"
   ]
  },
  {
   "cell_type": "markdown",
   "id": "80e55fb6",
   "metadata": {},
   "source": [
    "## Main code: Grover's algorithm "
   ]
  },
  {
   "cell_type": "markdown",
   "id": "a8940e06",
   "metadata": {},
   "source": [
    "The purpose of the program is to find a given state as an input. In this section we will apply the Grover's algorithm to 3 qubits and show that the probability to find the one we want is the highest between all the possibilities. \n",
    "Moreover, we will plot an histogram showing probabilities of states and another plot will show how the maximum probability increases as we apply the Grover's iterator more times. "
   ]
  },
  {
   "cell_type": "markdown",
   "id": "d7a2c70b",
   "metadata": {},
   "source": [
    "### Grover's algorithm for 3 qubits"
   ]
  },
  {
   "cell_type": "markdown",
   "id": "44b7f224",
   "metadata": {},
   "source": [
    "The code follows the next procedure to find the state: \n",
    "    \n",
    "1. Asks the number of qubits of the circuit and the state you want to find. \n",
    "2. Calculates R corresponding to repetitions of the Grover's iterator. The more times we apply the oracle, the higher probability we will get. (demonstration of the following equation) \n",
    "<br>\n",
    "\n",
    "<center> $R = \\frac{\\pi}{4}\\cdot \\sqrt{N}$ </center>\n",
    "\n",
    "<br>\n",
    "\n",
    "3. Starts a loop where it will run the full Grover's algorithm for each R: \n",
    "- It will create the circuit \n",
    "- Apply Hadamard gates for superposition\n",
    "- Apply the Grover's iterator\n",
    "- Execute the circuit in order to find the result \n",
    "- Add to a list the maximum probability corresponding to the state we want   \n",
    "    \n",
    "4. Draws the circuit. "
   ]
  },
  {
   "cell_type": "code",
   "execution_count": 8,
   "id": "6aa3f1f7",
   "metadata": {},
   "outputs": [
    {
     "name": "stdout",
     "output_type": "stream",
     "text": [
      "How many qubits does the circuit have? 3\n",
      "Which state do you want to find? 3\n",
      "\n",
      "Number of times we apply the oracle =  2\n",
      "\n",
      "q0: ─H─U─H─X─H─X─H─X─H─U─H─X─H─X─H─X─H─\n",
      "q1: ─H─U─H─X───o─X─H───U─H─X───o─X─H───\n",
      "q2: ─H─U─H─X───o─X─H───U─H─X───o─X─H───\n"
     ]
    }
   ],
   "source": [
    "nqubits = int(input(\"How many qubits does the circuit have? \"))\n",
    "state = int(input(\"Which state do you want to find? \"))\n",
    "probs = [ ] #probabilities of the target\n",
    "print()\n",
    "\n",
    "R = int((np.pi/4)*np.sqrt(2**nqubits))\n",
    "print(\"Number of times we apply the oracle = \", R)\n",
    "print()\n",
    "\n",
    "for k in range(1,R+1):\n",
    "    c = Circuit(nqubits) # Construct the circuit (2 qubits)\n",
    "    c.add([gates.H(i) for i in range(nqubits)])\n",
    "    for j in range(k):\n",
    "        # Rotation of the state we are searching for\n",
    "        oracle_general(nqubits,state) \n",
    "        diffusion(0,nqubits)\n",
    "         \n",
    "   # Execute the circuit and obtain the final state\n",
    "    result = c()\n",
    "    y = result.state(numpy=True)\n",
    "    probs.append(max([x.real*x.real for x in y]))\n",
    "\n",
    "# Draw the circuit\n",
    "print(c.draw())"
   ]
  },
  {
   "cell_type": "markdown",
   "id": "b283eec6",
   "metadata": {},
   "source": [
    "### Plots"
   ]
  },
  {
   "cell_type": "markdown",
   "id": "d9e5a516",
   "metadata": {},
   "source": [
    "These plots will show, from all states available (created by nqubits), the one with more probability which corresponds to the one we were searching for and how this probability increases as we apply more times the Grover's iterator. "
   ]
  },
  {
   "cell_type": "code",
   "execution_count": 9,
   "id": "593792a9",
   "metadata": {},
   "outputs": [
    {
     "data": {
      "image/png": "[encoded data removed]",
      "text/plain": [
       "<Figure size 432x288 with 1 Axes>"
      ]
     },
     "metadata": {
      "needs_background": "light"
     },
     "output_type": "display_data"
    },
    {
     "data": {
      "image/png": "[encoded data removed]",
      "text/plain": [
       "<Figure size 432x288 with 1 Axes>"
      ]
     },
     "metadata": {
      "needs_background": "light"
     },
     "output_type": "display_data"
    }
   ],
   "source": [
    "# FINDING STATE \n",
    "x = range(2**nqubits) \n",
    "y = result.state(numpy=True)\n",
    "\n",
    "prob = [x.real*x.real for x in y] # elevating coeficients = probability \n",
    "\n",
    "fig, ax = plt.subplots()\n",
    "\n",
    "ax.bar(x, prob, width=1, edgecolor=\"white\",color = \"darkviolet\", linewidth=0.7)\n",
    "ax.set(ylim=(0, 1), xlabel = 'states', ylabel = 'Probabilities')\n",
    "\n",
    "ax.text(prob.index(max(prob))-0.5,max(prob)+0.03, str(round(max(prob),2)), fontsize=10)\n",
    "\n",
    "plt.show()\n",
    "\n",
    "# MAX. PROBABILIY \n",
    "oracle_times = range(R) \n",
    "plt.plot(oracle_times, probs,'o', color = \"darkviolet\")\n",
    "plt.xlim([0 -0.09 ,R -0.9])\n",
    "plt.ylim([0,1.1])\n",
    "plt.xlabel('Iteration')\n",
    "plt.ylabel('State probability') \n",
    "\n",
    "i=0 #writes the probability of each state \n",
    "for el in probs:\n",
    "    plt.text(oracle_times[i],el+0.03, str(round(el.real, 2)), fontsize=10)\n",
    "    i=i+1\n",
    "    \n",
    "plt.show()"
   ]
  },
  {
   "cell_type": "markdown",
   "id": "09ddb384",
   "metadata": {},
   "source": [
    "## Scan with n=2,...,8 qubits"
   ]
  },
  {
   "cell_type": "markdown",
   "id": "d8a7ad5c",
   "metadata": {},
   "source": [
    "In order to compare the performance of the classical method and the quantum one, we will try to find the state 3 changing the number of qubits of the circuit form 2 to 9. We will calculate the time for each iteration and times we apply the oracle to find the state. "
   ]
  },
  {
   "cell_type": "markdown",
   "id": "2cd438ef",
   "metadata": {},
   "source": [
    "### Quantum algorithm (Grover's)"
   ]
  },
  {
   "cell_type": "markdown",
   "id": "530bb52f",
   "metadata": {},
   "source": [
    "Firstly, we will apply the Grover's algorithm (quantum method), using a loop in order to change the number of qubits from 2 to 9. "
   ]
  },
  {
   "cell_type": "code",
   "execution_count": 10,
   "id": "ffd8cc61",
   "metadata": {},
   "outputs": [
    {
     "name": "stdout",
     "output_type": "stream",
     "text": [
      "Which state do you want to find? 3\n",
      "\n"
     ]
    }
   ],
   "source": [
    "state = int(input(\"Which state do you want to find? \"))\n",
    "probability = [ ]\n",
    "q_oracle = [ ]\n",
    "print()\n",
    "\n",
    "for nqubits in range(2,9):\n",
    "\n",
    "    c = Circuit(nqubits) # Construct the circuit (2 qubits)\n",
    "    c.add([gates.H(i) for i in range(nqubits)])\n",
    "\n",
    "    R = int((np.pi/4)*np.sqrt(2**nqubits)) #time we apply the oracle \n",
    "    \n",
    "    for i in range(1,R+1):\n",
    "        # Rotation of the state we are searching for \n",
    "        oracle_general(nqubits,state) \n",
    "        diffusion(0,nqubits)\n",
    "    \n",
    "    # Execute the circuit and obtain the final state\n",
    "    result = c() \n",
    "    y = result.state(numpy=True)\n",
    "    probability.append(max([x*x.conjugate() for x in y]))\n",
    "    q_oracle.append(R)"
   ]
  },
  {
   "cell_type": "markdown",
   "id": "42d7062a",
   "metadata": {},
   "source": [
    "### Classical algorithm"
   ]
  },
  {
   "cell_type": "markdown",
   "id": "98ffad57",
   "metadata": {},
   "source": [
    "We know that Grover's algorithm reduces the time needed to find the state and that the result converges as $\\sqrt N$ with $N = 2^{nqubits}$, so we can use the previous section to compare it with the performation of the classical method to find an element of a list. \n",
    "\n",
    "We should see that the classical method escalates as $N$, much slower than the quantum performance. \n",
    "- We will create a list corresponding to all states available \n",
    "- A loop (equivalent to the oracle) will search element by element from the list until it finds the state we wanted\n",
    "- At the begining we will initiate a counter in order to know how many elements of the list the code has checked to know if the state was in that position"
   ]
  },
  {
   "cell_type": "code",
   "execution_count": 11,
   "id": "9e6520ad",
   "metadata": {},
   "outputs": [],
   "source": [
    "c_oracle = [ ]\n",
    "\n",
    "for nqubits in range(2,9):\n",
    "    states_list = np.arange(2**nqubits)\n",
    "    np.random.shuffle(states_list)\n",
    "    \n",
    "    i=0\n",
    "    for el in states_list:\n",
    "        if el == state:\n",
    "            c_oracle.append(i)\n",
    "        i +=1"
   ]
  },
  {
   "cell_type": "markdown",
   "id": "85b21257",
   "metadata": {},
   "source": [
    "### Plot comparision "
   ]
  },
  {
   "cell_type": "markdown",
   "id": "6926dad2",
   "metadata": {},
   "source": [
    "Here we can see two plots: one that shows time to find the state vs number of qubits and the other one shows times we apply the oracle vs number of qubits using the classical and quantum algorithm. We can, indeed, see how the time to find the state with the classical method is higher than the one spent to find the state by the quantum method (encara no és així perquè estem utilitzant amtriu classica). Also, the number of times we apply the oracle coverges as N classicaly, and as $\\sqrt N$ when we use the Grover's algorithm. "
   ]
  },
  {
   "cell_type": "code",
   "execution_count": 12,
   "id": "6f4479a8",
   "metadata": {},
   "outputs": [
    {
     "data": {
      "image/png": "[encoded data removed]",
      "text/plain": [
       "<Figure size 432x288 with 1 Axes>"
      ]
     },
     "metadata": {
      "needs_background": "light"
     },
     "output_type": "display_data"
    }
   ],
   "source": [
    "x = range(2,9) #nqubits list \n",
    "\n",
    "# oracle times vs nqubits\n",
    "plt.plot(x,c_oracle, label = \"Classic\", color = \"green\")\n",
    "plt.plot(x,q_oracle, label = \"Quantum\", color = \"darkviolet\")\n",
    "plt.xlabel(\"nqubits\")\n",
    "plt.ylabel(\"oracle times\")\n",
    "plt.legend()\n",
    "\n",
    "plt.show()"
   ]
  }
 ],
 "metadata": {
  "kernelspec": {
   "display_name": "Python 3",
   "language": "python",
   "name": "python3"
  },
  "language_info": {
   "codemirror_mode": {
    "name": "ipython",
    "version": 3
   },
   "file_extension": ".py",
   "mimetype": "text/x-python",
   "name": "python",
   "nbconvert_exporter": "python",
   "pygments_lexer": "ipython3",
   "version": "3.8.8"
  }
 },
 "nbformat": 4,
 "nbformat_minor": 5
}
