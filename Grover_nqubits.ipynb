{
 "cells": [
  {
   "cell_type": "code",
   "execution_count": 1,
   "id": "f8d1be43",
   "metadata": {},
   "outputs": [
    {
     "name": "stderr",
     "output_type": "stream",
     "text": [
      "[Qibo 0.1.6|INFO|2022-02-22 16:08:34]: Using numpy backend on /CPU:0\n",
      "[Qibo 0.1.6|WARNING|2022-02-22 16:08:34]: numpy backend uses `np.einsum` and supports CPU only. Consider installing the qibojit or qibotf backends for increased performance and to enable GPU acceleration.\n"
     ]
    }
   ],
   "source": [
    "import numpy as np\n",
    "from qibo.models import Circuit\n",
    "from qibo import gates\n",
    "from qibo import callbacks\n",
    "import matplotlib.pyplot as plt\n",
    "import time "
   ]
  },
  {
   "cell_type": "markdown",
   "id": "f0f58b97",
   "metadata": {},
   "source": [
    "### Oracle"
   ]
  },
  {
   "cell_type": "code",
   "execution_count": 2,
   "id": "cc1f34b6",
   "metadata": {},
   "outputs": [],
   "source": [
    "def binary_to_decimal(binary_number):\n",
    "    decimal_number = 0 \n",
    "\n",
    "    for position, string_digit in enumerate(binary_number[::-1]):\n",
    "        decimal_number += int(string_digit) * 2 ** position\n",
    "\n",
    "    return decimal_number\n"
   ]
  },
  {
   "cell_type": "code",
   "execution_count": 3,
   "id": "ec1b3489",
   "metadata": {},
   "outputs": [],
   "source": [
    "def oracle_general(nqubits,state):\n",
    "    \n",
    "    inv_matrix = np.zeros( (2**nqubits, 2**nqubits) )\n",
    "\n",
    "    for i in range(0,2**nqubits):\n",
    "        for j in range(0,2**nqubits):\n",
    "            if i == j:\n",
    "                if i == state : \n",
    "                    inv_matrix[i][j] = -1 \n",
    "                else:\n",
    "                    inv_matrix[i][j] = 1 \n",
    "\n",
    "    return c.add(gates.Unitary(inv_matrix,*range(0,nqubits)))\n",
    "    "
   ]
  },
  {
   "cell_type": "code",
   "execution_count": 4,
   "id": "a5acf8c7",
   "metadata": {},
   "outputs": [],
   "source": [
    "def MCZ(q0,nqubits): # defining multi-controlled Z function \n",
    "    c.add(gates.H(q0))\n",
    "    c.add(gates.X(q0).controlled_by(*range(1,nqubits)))\n",
    "    c.add(gates.H(q0))\n",
    "    return c "
   ]
  },
  {
   "cell_type": "code",
   "execution_count": 5,
   "id": "4d8d0943",
   "metadata": {},
   "outputs": [],
   "source": [
    "def difussion(q0,nqubits): \n",
    "    for i in range(0,nqubits):\n",
    "        c.add(gates.H(i))\n",
    "        \n",
    "    for i in range(0,nqubits):\n",
    "        c.add(gates.X(i))\n",
    "        \n",
    "    MCZ(q0,nqubits)\n",
    "    \n",
    "    for i in range(0,nqubits):\n",
    "        c.add(gates.X(i))\n",
    "        \n",
    "    for i in range(0,nqubits):\n",
    "        c.add(gates.H(i))\n",
    "    return c"
   ]
  },
  {
   "cell_type": "markdown",
   "id": "80e55fb6",
   "metadata": {},
   "source": [
    "### Grover's algorithm 1 iteration"
   ]
  },
  {
   "cell_type": "code",
   "execution_count": 6,
   "id": "6aa3f1f7",
   "metadata": {},
   "outputs": [
    {
     "name": "stdout",
     "output_type": "stream",
     "text": [
      "How many qubits does the circuit have? 3\n",
      "Which state do you want to find? 3\n",
      "2\n",
      "q0: ─H─U─H─X─H─X─H─X─H─U─H─X─H─X─H─X─H─\n",
      "q1: ─H─U─H─X───o─X─H───U─H─X───o─X─H───\n",
      "q2: ─H─U─H─X───o─X─H───U─H─X───o─X─H───\n",
      "---0.007674217224121094 seconds ---\n"
     ]
    },
    {
     "name": "stderr",
     "output_type": "stream",
     "text": [
      "/opt/anaconda3/lib/python3.8/site-packages/numpy/core/_asarray.py:102: ComplexWarning: Casting complex values to real discards the imaginary part\n",
      "  return array(a, dtype, copy=False, order=order)\n",
      "/opt/anaconda3/lib/python3.8/site-packages/matplotlib/text.py:825: ComplexWarning: Casting complex values to real discards the imaginary part\n",
      "  y = float(self.convert_yunits(self._y))\n",
      "/opt/anaconda3/lib/python3.8/site-packages/matplotlib/text.py:687: ComplexWarning: Casting complex values to real discards the imaginary part\n",
      "  posy = float(textobj.convert_yunits(textobj._y))\n"
     ]
    },
    {
     "data": {
      "image/png": "[encoded data removed]",
      "text/plain": [
       "<Figure size 432x288 with 1 Axes>"
      ]
     },
     "metadata": {
      "needs_background": "light"
     },
     "output_type": "display_data"
    }
   ],
   "source": [
    "nqubits = int(input(\"How many qubits does the circuit have? \"))\n",
    "state = int(input(\"Which state do you want to find? \"))\n",
    "\n",
    "start_time = time.time()\n",
    "\n",
    "c = Circuit(nqubits) # Construct the circuit (2 qubits)\n",
    "\n",
    "for i in range(0,nqubits):\n",
    "    c.add(gates.H(i)) # Add some gates\n",
    "\n",
    "R = int((np.pi/4)*np.sqrt(2**nqubits))\n",
    "print(R)\n",
    "\n",
    "for i in range(0,R):\n",
    "    # Rotation of the wanted state\n",
    "    oracle_general(nqubits,state) \n",
    "\n",
    "    difussion(0,nqubits)\n",
    "    \n",
    "\n",
    "# Execute the circuit and obtain the final state\n",
    "result = c() # c.execute(initial_state) also works\n",
    "# Draw the circuit\n",
    "print(c.draw())\n",
    "\n",
    "x = range(2**nqubits) \n",
    "\n",
    "y = result.state(numpy=True)\n",
    "\n",
    "print(\"---%s seconds ---\" % (time.time()-start_time))\n",
    "\n",
    "prob = [x*x.conjugate() for x in y] # elevating coeficients \n",
    "\n",
    "fig, ax = plt.subplots()\n",
    "\n",
    "ax.bar(x, prob, width=1, edgecolor=\"white\", linewidth=0.7)\n",
    "ax.set(ylim=(0, 1), xlabel = 'states', ylabel = 'probabilities')\n",
    "\n",
    "i=0 #writes the probability of each state \n",
    "for el in prob:\n",
    "    ax.text(i-0.5,el+0.03, str(round(el.real, 2)), fontsize=10)\n",
    "    i=i+1\n",
    "\n",
    "plt.show()"
   ]
  }
 ],
 "metadata": {
  "kernelspec": {
   "display_name": "Python 3",
   "language": "python",
   "name": "python3"
  },
  "language_info": {
   "codemirror_mode": {
    "name": "ipython",
    "version": 3
   },
   "file_extension": ".py",
   "mimetype": "text/x-python",
   "name": "python",
   "nbconvert_exporter": "python",
   "pygments_lexer": "ipython3",
   "version": "3.8.8"
  }
 },
 "nbformat": 4,
 "nbformat_minor": 5
}
