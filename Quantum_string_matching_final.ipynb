{
 "cells": [
  {
   "cell_type": "markdown",
   "id": "1ac24978",
   "metadata": {},
   "source": [
    "# Quantum string matching using Grover's algorithm "
   ]
  },
  {
   "cell_type": "markdown",
   "id": "9b9d2a0e",
   "metadata": {},
   "source": [
    "*Author*: Júlia Barberà, 21st May of 2022"
   ]
  },
  {
   "cell_type": "markdown",
   "id": "439c73d5",
   "metadata": {},
   "source": [
    "This notebook presents a code to find a pattern in a given string using Grover's algorithm based on the article: \n",
    "\"Quantum Pattern Matching\" by P. Mateus and Y. Omar (eprint: [arXiv:quant-ph/0508237](https://arxiv.org/abs/quant-ph/0508237))."
   ]
  },
  {
   "cell_type": "markdown",
   "id": "51814c1c",
   "metadata": {},
   "source": [
    "For computational reasons, it simulates the solution for a string of length $N = 8$ and a pattern of length $M = 2$. "
   ]
  },
  {
   "cell_type": "markdown",
   "id": "4dfa204c",
   "metadata": {},
   "source": [
    "The code is written using [Qibo](https://qibo.readthedocs.io/en/stable/) language and qibojit simulator as a default backend."
   ]
  },
  {
   "attachments": {},
   "cell_type": "markdown",
   "id": "cbdbe1dd",
   "metadata": {},
   "source": [
    "__Table of contents:__\n",
    "1. [Quantum string matching](#quantum-string-matching)\n",
    "    1. [State initialization](#state-initialization)\n",
    "\n",
    "2. [Grover's algorithm](#grover's-algorithm)\n",
    "    1. [Grover's Oracle](#grover's-oracle)\n",
    "    1. [Diffusion operator](#diffusion-operator)\n",
    "    \n",
    "    \n",
    "3. [Extra functions](#extra-functions)\n",
    "    1. [Binary to decimal](#binary-to-decimal)\n",
    "    1. [Decimal to binary](#decimal-to-binary)\n",
    "    \n",
    "\n",
    "4. [Main code: Quantum string matching algorithm](#Main-code-quantum-string-matching-algorithm)\n",
    "    1. [Quantum string matching](#quantum-string-matching)\n",
    "    1. [Comparison with classical algorithms](#comparison-with-classical-algorithms)\n",
    "    1. [Plots](#plots)\n",
    "    "
   ]
  },
  {
   "cell_type": "code",
   "execution_count": 84,
   "id": "1ce02688",
   "metadata": {},
   "outputs": [],
   "source": [
    "## Import all libraries that we will need\n",
    "import math as m\n",
    "import numpy as np\n",
    "from qibo.models import Circuit\n",
    "from qibo import gates\n",
    "from qibo import callbacks\n",
    "import matplotlib.pyplot as plt\n",
    "import operator\n",
    "import itertools"
   ]
  },
  {
   "cell_type": "markdown",
   "id": "7afd0a0c",
   "metadata": {},
   "source": [
    "## Quantum string matching"
   ]
  },
  {
   "cell_type": "markdown",
   "id": "41a42a0a",
   "metadata": {},
   "source": [
    "The problem of finding occurrence of a pattern string within another string can be solved using Grover's algorithm. \n",
    "Let's assume that we want to find where the pattern $|p\\rangle$ of size M occurs within the string $|w\\rangle$ of size N. In order to return the position $|i\\rangle \\in N$ we have to encode the position in a unit vector of a Hilbert subspace of dimension N: $|i\\rangle = \\{ |1\\rangle, ...,|N\\rangle\\}$. \n",
    "\n",
    "Given the pattern p, if we consider that its length is $M = 2$, the second match will have to occur just after the first one. Therfore, the possible solutions of the problem have to represent an entangled state $|i\\rangle\\otimes|i +1\\rangle$ which the first state corresponds to the first index where the first pattern's character is found and the second state is the location of the second character of the given pattern within the given string.  \n",
    "\n",
    "Consequently, the initial state for the index consists of a uniform superposition of all the possible solutions expressed like:\n",
    "\n",
    "<br>\n",
    "\n",
    "<center> $\\psi_0 =\\frac{1}{\\sqrt{N}}\\sum^{N-1}_{i = 0}(|i\\rangle + |i +1\\rangle,...,|i + M - 1 \\rangle). $ </center>\n",
    "\n",
    "<br>\n",
    "\n",
    "The number of qubits that are used to represent the index states is $s = log_2(N - M)$ for each index $|i\\rangle$. \n",
    "The total circuit, thus, will consist in a Hilbert space of dimension $d = N + M + 2\\cdot s$. \n",
    "Once the initial state is prepared, the Grover's oracle $U_\\sigma$ has to act over all the states. This oracle acts like a black box which marks (with a phase flip of $-1$) the state that is the solution: \n",
    "\n",
    "<br>\n",
    "\n",
    "<center> $U_\\sigma(|i\\rangle \\otimes |i +1\\rangle) = (-1)^{f_\\sigma (i)}(|i\\rangle \\otimes |i +1\\rangle),$ </center>\n",
    "\n",
    "<br>\n",
    "with, $ f_\\sigma (i) = 1$ if the i-th character of $|w\\rangle$ is $\\sigma$ (in our case $\\sigma ={0,1}$) and $ f_\\sigma (i) = 0$ otherwise. After applying the oracle, the states which tell where the match has occurred will be flipped. \n",
    "The next step is to amplify the states that are solution using Grover's diffusion operator expressed in a general form as: \n",
    "\n",
    "<br>\n",
    "\n",
    "<center> $U_w = (2|\\psi\\rangle \\langle \\psi| - I )$. </center> \n",
    "\n",
    "<br> \n",
    "\n",
    "When we measure, we will find that the state with the highest probability is the one that tells the location of the pattern within the string. \n",
    "\n",
    "The algorithm anatomy is presented below: "
   ]
  },
  {
   "attachments": {
    "anatomy_circuit.png": {
     "image/png": "[encoded data removed]"
    }
   },
   "cell_type": "markdown",
   "id": "ddeb7231",
   "metadata": {},
   "source": [
    "![anatomy_circuit.png](attachment:anatomy_circuit.png)"
   ]
  },
  {
   "cell_type": "markdown",
   "id": "21c38b56",
   "metadata": {},
   "source": [
    "### State initialization"
   ]
  },
  {
   "cell_type": "markdown",
   "id": "63d31fd1",
   "metadata": {},
   "source": [
    "To create the initial entangled state for a case with $N = 8 $ and $M = 2 $: \n",
    "\n",
    "<br>\n",
    "\n",
    "<center> $\\psi =\\frac{1}{2\\sqrt{2}}(|0,1\\rangle +|1,2\\rangle +|2,3\\rangle +|3,4\\rangle +|4,5\\rangle +|5,6\\rangle +|6,7\\rangle +|7,0\\rangle ), $ </center>\n",
    "\n",
    "<br>\n",
    "we have to proceed as follows: \n",
    "\n",
    "- Firstly, initiate the circuit to $|0\\rangle^{\\otimes 6}$ using $s = log_2(N - M)$ qubits for each letter of the pattern, in our case 6.  \n",
    "-  Apply hadamards to the first set of qubits (3 qubits) in order to have a superposition of all the index: $|0\\rangle...|i\\rangle$. This state will result in: \n",
    "\n",
    "<br>\n",
    "\n",
    "<center> $|\\psi\\rangle =\\frac{1}{2\\sqrt{2}}(|000\\rangle +|001\\rangle +|010\\rangle +|011\\rangle +|100\\rangle +|101\\rangle +|110\\rangle +|111\\rangle ) \\otimes |000\\rangle$. </center>\n",
    "\n",
    "<br>\n",
    "\n",
    "- Entangle the the first set of qubits with the second one using CNOT gates to obtain the state: $|\\psi'\\rangle =\\frac{1}{\\sqrt{N}}\\sum_{i = 1}^7 (|i\\rangle \\otimes |i\\rangle ). $\n",
    "\n",
    "- Increment the index of the second set of qubits by 1, using MCX gates to obtain the initial state: \n",
    "<br>\n",
    "\n",
    "<center> $\\psi =\\frac{1}{2\\sqrt{2}}(|0,1\\rangle +|1,2\\rangle +|2,3\\rangle +|3,4\\rangle +|4,5\\rangle +|5,6\\rangle +|6,7\\rangle +|7,0\\rangle ). $ </center>\n",
    "\n",
    "<br>\n",
    "\n",
    "Notice that we have considered periodic boundary conditions because if we don't we would need an extra qubit and it gets more complex to create the initial state only using MCX gates. \n",
    "\n",
    "The circuit initialization diagram is shown below. "
   ]
  },
  {
   "attachments": {
    "inicial2.png": {
     "image/png": "[encoded data removed]"
    }
   },
   "cell_type": "markdown",
   "id": "23fe0493",
   "metadata": {},
   "source": [
    "![inicial2.png](attachment:inicial2.png)"
   ]
  },
  {
   "cell_type": "code",
   "execution_count": 98,
   "id": "d0d02ce2",
   "metadata": {},
   "outputs": [],
   "source": [
    "def initialize( N, M, s, string_w, pattern_p):\n",
    "    for i in range(N): \n",
    "        if string_w[i] == 1: \n",
    "            c.add(gates.X(i))\n",
    "\n",
    "    for i in range(M): \n",
    "        if pattern_p[i] == 1: \n",
    "            c.add(gates.X(i + N))\n",
    "\n",
    "    # entanglement \n",
    "    for i in range(int(s/2)):\n",
    "        c.add(gates.H(i + N + M))\n",
    "\n",
    "    for i in range(int(s/2)):\n",
    "        c.add(gates.CNOT(i + N + M,i + int(s/2) + N + M))\n",
    "\n",
    "    for i in range(int(s/2)): \n",
    "        if i == (int(s/2)-1):\n",
    "            c.add(gates.X(N + M + s - 1))\n",
    "        else:\n",
    "            c.add(gates.X(int(s/2) + i + N + M).controlled_by(*range(int(s/2) + i + N + M + 1, N + M + s)))\n",
    "\n",
    "    return c"
   ]
  },
  {
   "cell_type": "markdown",
   "id": "cc90c713",
   "metadata": {},
   "source": [
    "## Grover's algorithm"
   ]
  },
  {
   "cell_type": "markdown",
   "id": "4cf28b00",
   "metadata": {},
   "source": [
    "Grover's algorithm is used for unsorted data search problems and as a consequence we can express a quantum string search problem in a way that Grover's algorithm can be applied to find the solution. \n",
    "This algorithm is composed by an oracle which has the function to mark the solution state and a diffusion operator needed to amplify this state in order to measure it with the highest probability amond the other ones. "
   ]
  },
  {
   "cell_type": "markdown",
   "id": "7f6d34f4",
   "metadata": {},
   "source": [
    "### Grover's Oracle: $U_\\sigma$"
   ]
  },
  {
   "cell_type": "markdown",
   "id": "30bdfd8a",
   "metadata": {},
   "source": [
    "This kind of problem involves as many oracles as letters our alphabet has. In other words, for every different character of the pattern (i.e. 0 and 1 for our case) we need to construct a different oracle. \n",
    "\n",
    "Let's consider the case: \n",
    "<center> $|w\\rangle$ = $|11100000\\rangle$ and  $|p\\rangle$ = $|10\\rangle$. \n",
    "    \n",
    "Our alphabet will be composed by two characters because we are using binary: $\\Sigma = \\{0,1\\}$. We have to see where this pattern is. It can be done following the next steps:\n",
    "    \n",
    "\n",
    "1. Take the first character of the pattern: $\\sigma = 1 $, to see if there is a match with the rest of characters of the string $|w\\rangle$. \n",
    "    \n",
    "2. Compare $\\sigma$ with the rest components of $|w\\rangle$. If they are equal, as will happend for index 0,1 and 2, we have to mark the state where the match is produced like: \n",
    "<center> $U_{\\sigma(1)} \\psi = \\frac{1}{2\\sqrt{2}}(-|0,1\\rangle -|1,2\\rangle -|2,3\\rangle +|3,4\\rangle +|4,5\\rangle +|5,6\\rangle +|6,7\\rangle +|7,0\\rangle ) $\n",
    "\n",
    "Now we should do the same with the second letter of the alphabet. However, with some combinations of the string $|w\\rangle$ and $|p\\rangle$ we can have problems as there can be more than one state that has not been marked and has the same sign as the solution. As a consequence, we will apply the diffusion operator every time one of the oracles is applied to the states in order to see a higher amplification of the solution. \n",
    "        \n",
    "    \n",
    "We will have to apply every oracles as many times as the letter of the alphabet $\\sigma$ happens in the pattern $|p\\rangle$. For this case we will only have to apply each alphabet one time. \n",
    "\n",
    "    \n",
    "- For the first letter of the pattern, the states will be marked using a MCZ gate with the last qubit of the set of $s$ qubits as the target, once the state that has a match is moved to the last entry. The controls will be each qubits of the string and the qubit that represents the first letter of the pattern. If they are equal, the state will be flipped. When the MCZ gate is applied and the state is flipped, we bring the state to its original position. \n",
    "    \n",
    "- The same will happen for the second letter. However, for this case we will have to consider the second set of qubits $s$ which represents the second index. If there is a match between the pattern and the string, the state that represents the second index will be flipped and brought to its original position. "
   ]
  },
  {
   "cell_type": "code",
   "execution_count": 212,
   "id": "43d8ab64",
   "metadata": {},
   "outputs": [],
   "source": [
    "def oracle_1(N,M,s):\n",
    "    \n",
    "    #Creates list of all combinations that can be made with different length \n",
    "    inp_list = [*range(N + M, N + M + int(s/2))]\n",
    "    combi = [ ]\n",
    "    controls = [3, 5, 6, 1, 2, 4, 0]\n",
    "    for i in range(1, len(inp_list) + 1):\n",
    "        combi.extend(list(itertools.combinations(inp_list, r = i)))\n",
    "        \n",
    "    for i in range(len(combi)+1):\n",
    "        if  i == len(combi): \n",
    "            c.add(gates.Z(N + M + 2).controlled_by(N-1, N, N + M, N + M + 1))\n",
    "        else: \n",
    "            c.add([gates.X(j) for j in list(combi[i])])\n",
    "            c.add(gates.Z(N + M + 2).controlled_by(controls[i], N, N + M, N + M + 1))\n",
    "            c.add([gates.X(j) for j in list(combi[i])])\n",
    "    diffusion(N, M, s)\n",
    "    #Creates list of all combinations that can be made with different length \n",
    "    inp_list = [*range(N + M + int(s/2), N + M + s)]\n",
    "    combi = [ ]\n",
    "    controls = [3, 5, 6, 1, 2, 4, 0]\n",
    "    for i in range(1, len(inp_list) + 1):\n",
    "        combi.extend(list(itertools.combinations(inp_list, r = i)))\n",
    "        \n",
    "    for i in range(len(combi)+1):\n",
    "        if  i == len(combi): \n",
    "            c.add(gates.Z(N + M + 5).controlled_by(0, N + 1, N + M + 3, N + M + 4))\n",
    "        else: \n",
    "            c.add([gates.X(j) for j in list(combi[i])])\n",
    "            c.add(gates.Z(N + M + 5).controlled_by(controls[i] , N + 1, N + M + 3, N + M + 4))\n",
    "            c.add([gates.X(j) for j in list(combi[i])])\n",
    "    diffusion(N, M, s)\n",
    "    return c\n"
   ]
  },
  {
   "cell_type": "code",
   "execution_count": 213,
   "id": "49e2b766",
   "metadata": {},
   "outputs": [],
   "source": [
    "def oracle_0(N,M,s):\n",
    "\n",
    "    \n",
    "    #Creates list of all combinations that can be made with different length \n",
    "    inp_list = [*range(N + M, N + M + int(s/2))]\n",
    "    combi = [ ]\n",
    "    controls = [3, 5, 6, 1, 2, 4, 0]\n",
    "    for i in range(1, len(inp_list) + 1):\n",
    "        combi.extend(list(itertools.combinations(inp_list, r = i)))\n",
    "        \n",
    "    for i in range(len(combi)+1):\n",
    "        if  i == len(combi):                  \n",
    "            c.add(gates.X(N - 1))\n",
    "            c.add(gates.X(N))\n",
    "            c.add(gates.Z(N + M + 2).controlled_by(N-1, N, N + M, N + M + 1))\n",
    "            c.add(gates.X(N - 1))\n",
    "            c.add(gates.X(N))\n",
    "        else: \n",
    "            c.add([gates.X(j) for j in list(combi[i])])\n",
    "            c.add(gates.X(controls[i]))\n",
    "            c.add(gates.X(N))\n",
    "            c.add(gates.Z(N + M + 2).controlled_by(controls[i], N, N + M, N + M + 1))\n",
    "            c.add(gates.X(controls[i]))\n",
    "            c.add(gates.X(N))\n",
    "            c.add([gates.X(j) for j in list(combi[i])])\n",
    "    diffusion(N, M, s)\n",
    "    #Creates list of all combinations that can be made with different length \n",
    "    inp_list = [*range(N + M + int(s/2), N + M + s)]\n",
    "    combi = [ ]\n",
    "    for i in range(1, len(inp_list) + 1):\n",
    "        combi.extend(list(itertools.combinations(inp_list, r = i)))\n",
    "        \n",
    "    for i in range(len(combi)+1):\n",
    "        if  i == len(combi): \n",
    "            c.add(gates.X(0))\n",
    "            c.add(gates.X(N + 1))\n",
    "            c.add(gates.Z(N + M + 5).controlled_by(0, N + 1, N + M + 3, N + M + 4))\n",
    "            c.add(gates.X(0))\n",
    "            c.add(gates.X(N + 1))\n",
    "        else: \n",
    "            c.add([gates.X(j) for j in list(combi[i])])\n",
    "            c.add(gates.X(controls[i] ))\n",
    "            c.add(gates.X(N + 1))\n",
    "            c.add(gates.Z(N + M + 5).controlled_by(controls[i] , N + 1, N + M + 3, N + M + 4))\n",
    "            c.add(gates.X(controls[i] ))\n",
    "            c.add(gates.X(N + 1))\n",
    "            c.add([gates.X(j) for j in list(combi[i])])\n",
    "    diffusion(N, M, s)\n",
    "    return c\n"
   ]
  },
  {
   "cell_type": "markdown",
   "id": "5c08654d",
   "metadata": {},
   "source": [
    "### Grover's diffusion operator: $U_s$"
   ]
  },
  {
   "cell_type": "markdown",
   "id": "754ff9ed",
   "metadata": {},
   "source": [
    "This operator, expressed like: $U_s = 2|s\\rangle \\langle s | - I$, will be applied after the Oracle, and will perform an extra reflection of the state $U_w |s\\rangle$. It will amplify the state we want to find by increasing its probability among the other ones. The Diffusion operator will have the following universal form : "
   ]
  },
  {
   "attachments": {
    "Difusion_op.png": {
     "image/png": "[encoded data removed]"
    }
   },
   "cell_type": "markdown",
   "id": "5b16de08",
   "metadata": {},
   "source": [
    "![Difusion_op.png](attachment:Difusion_op.png)"
   ]
  },
  {
   "cell_type": "markdown",
   "id": "49134983",
   "metadata": {},
   "source": [
    "This operator computes the average mean of all state's amplitudes and flips each state probability over this mean. "
   ]
  },
  {
   "cell_type": "code",
   "execution_count": 102,
   "id": "d56cfe41",
   "metadata": {},
   "outputs": [],
   "source": [
    "def diffusion(N, M, s): \n",
    "\n",
    "    c.add([gates.H(i) for i in range(N + M, N + M + s)])     \n",
    "    c.add([gates.X(i) for i in range(N + M, N + M + s)])   \n",
    "    c.add(gates.Z(N + M + s-1).controlled_by(*range(N + M, N + M + s-1)))\n",
    "    c.add([gates.X(i) for i in range(N + M, N + M + s)])\n",
    "    c.add([gates.H(i) for i in range(N + M, N + M + s)])\n",
    "    \n",
    "    return c\n"
   ]
  },
  {
   "cell_type": "markdown",
   "id": "de7ed926",
   "metadata": {},
   "source": [
    "## Extra functions"
   ]
  },
  {
   "cell_type": "markdown",
   "id": "ef504600",
   "metadata": {},
   "source": [
    "Here we define some functions that will be used for solving this pattern matching problem. "
   ]
  },
  {
   "cell_type": "markdown",
   "id": "07dbae5d",
   "metadata": {},
   "source": [
    "### Decimal to Binary "
   ]
  },
  {
   "cell_type": "markdown",
   "id": "05d06cba",
   "metadata": {},
   "source": [
    "This function takes as input the decimal number we need to convert to a binary number.  \n",
    "First, it uses an integrated python function to convert the number into a binary string and then it removes first two digits \"0b\"."
   ]
  },
  {
   "cell_type": "code",
   "execution_count": 5,
   "id": "15e5e0fd",
   "metadata": {},
   "outputs": [],
   "source": [
    "def bin_list(dec,nqubits): \n",
    "    binary = format(dec,'0{}b'.format(nqubits))\n",
    "    return list(map(int, str(binary)))"
   ]
  },
  {
   "cell_type": "markdown",
   "id": "74d8e0f2",
   "metadata": {},
   "source": [
    "### Binary to decimal "
   ]
  },
  {
   "cell_type": "markdown",
   "id": "e03bf993",
   "metadata": {},
   "source": [
    "There are two methods to convert a binary number into a decimal number and we will use the positional notation to convert them. The weight of the positions will be $2^0, 2^1, 2^2, 2^3,...$ so the first thing we need to do is count the number of digits (positions) the binary number has. Then, these weights will be multiplying the digit corresponding to its binary number (0 or 1). Finally, we will sum up everything. \n",
    "\n",
    "Let's assume our binary number is $10110$:\n",
    "\n",
    "\n",
    "<br>\n",
    "\n",
    "<center> decimal number $= 1 \\cdot 2^4 + 0 \\cdot 2^3 + 1 \\cdot 2^2 + 1 \\cdot 2^1 + 0 \\cdot 2^0 = 22 $ </center>\n",
    "\n",
    "\n",
    "<br>\n",
    "\n",
    "The binary state will be the one we want to find, and we will use this function to transform the state into a decimal number to find the inverting matrix classically. "
   ]
  },
  {
   "cell_type": "code",
   "execution_count": 6,
   "id": "b92ebd93",
   "metadata": {},
   "outputs": [],
   "source": [
    "def bin_to_dec(binary_number):\n",
    "    decimal_number = 0 #Initialize the number \n",
    "\n",
    "    for position, string_digit in enumerate(binary_number[::-1]):\n",
    "        decimal_number += int(string_digit) * 2 ** position\n",
    "\n",
    "    return decimal_number"
   ]
  },
  {
   "cell_type": "markdown",
   "id": "9c8bff82",
   "metadata": {},
   "source": [
    "## Main code: Grover's algorithm for quantum pattern matching"
   ]
  },
  {
   "cell_type": "markdown",
   "id": "4a494cc3",
   "metadata": {},
   "source": [
    "The purpose of the program is to find the location (index) of the pattern $ |p\\rangle = |10\\rangle$ within the string $|w\\rangle = |11100000\\rangle$. \n",
    "\n",
    "In this section we apply Grover's algorithm for $N = 8$, $M = 2$ and $s = 3$. "
   ]
  },
  {
   "cell_type": "markdown",
   "id": "e1163472",
   "metadata": {},
   "source": [
    "The steps to find the solution proceed as follows:\n",
    "    \n",
    "1. Asks which string do you want to use (for this code we have input $|w\\rangle = |11100000\\rangle$ as the string).\n",
    "2. Creates the initial entangled state: \n",
    "<br>\n",
    "\n",
    "<center> $\\psi =\\frac{1}{2\\sqrt{2}}(|0,1\\rangle +|1,2\\rangle +|2,3\\rangle +|3,4\\rangle +|4,5\\rangle +|5,6\\rangle +|6,7\\rangle +|7,0\\rangle ). $ </center>\n",
    "\n",
    "<br>"
   ]
  },
  {
   "cell_type": "markdown",
   "id": "7ded1409",
   "metadata": {},
   "source": [
    "3. Starts a loop running the whole Grover's algorithm (amplitude flip and amplification) 3 times to achieve maximum probability. The optimal number of times call each oracle for string matching is given by: \n",
    "<br>\n",
    "\n",
    "<center> $k_{opt} = \\sqrt{N + M -1}, $ </center>\n",
    "\n",
    "<br>\n",
    "\n",
    "4. Executes the circuit in order to find the result. \n",
    "5. Measures the state of the first three qubits which will correspond to the index of the string where the pattern can be found. \n",
    "6. Prints three columns corresponding to the state, the occurance of each state and their probability."
   ]
  },
  {
   "cell_type": "code",
   "execution_count": 227,
   "id": "540ce9c4",
   "metadata": {},
   "outputs": [
    {
     "name": "stdout",
     "output_type": "stream",
     "text": [
      "Given string: 11101110\n",
      "Pattern:  10\n",
      "The Grover's oracle will be called 3 times\n",
      "State \t\tOccurance \tProbability\n",
      "000 \t\t 221 \t\t 0.1105\n",
      "001 \t\t 227 \t\t 0.1135\n",
      "010 \t\t 295 \t\t 0.1475\n",
      "011 \t\t 309 \t\t 0.1545\n",
      "100 \t\t 219 \t\t 0.1095\n",
      "101 \t\t 226 \t\t 0.113\n",
      "110 \t\t 204 \t\t 0.102\n",
      "111 \t\t 299 \t\t 0.1495\n",
      "\n",
      "The pattern has been found at index i = 3\n"
     ]
    }
   ],
   "source": [
    "string_w = input(\"Given string: \" )\n",
    "string_w  = [int(x) for x in str(string_w)]\n",
    "pattern_p = input(\"Pattern:  \" )\n",
    "pattern_p   = [int(x) for x in str(pattern_p )]\n",
    "\n",
    "N = len(string_w)\n",
    "M = len(pattern_p)\n",
    "\n",
    "s = int(m.ceil(m.log2(N - M)))*M\n",
    "\n",
    "#initialize \n",
    "c = Circuit(N + M + s)\n",
    "initialize( N, M, s, string_w, pattern_p)\n",
    "\n",
    "grovers_iter = m.ceil(m.sqrt(N + M - 1))\n",
    "print(\"The Grover's oracle will be called\", grovers_iter, \"times\")\n",
    "if pattern_p[0] == pattern_p[1]:     \n",
    "    for k in range(3): \n",
    "        if pattern_p[0] == 1:    \n",
    "            oracle_1(N, M, s)\n",
    "        else: \n",
    "            oracle_0(N, M, s)\n",
    "else: \n",
    "    for k in range(grovers_iter):\n",
    "        for p in pattern_p:\n",
    "            if p == 1:\n",
    "                oracle_1(N, M, s)\n",
    "            else: \n",
    "                oracle_0(N, M, s)\n",
    "\n",
    "c.add(gates.M(*range(N + M, N + M + int(s/2)), register_name=\"A\"))\n",
    "result = c(nshots=2000)\n",
    "y = result.frequencies(binary=True, registers=True)\n",
    "\n",
    "print('State', '\\t\\tOccurance','\\tProbability')\n",
    "for q_state in y['A']:\n",
    "    print(q_state, '\\t\\t', y['A'][q_state],'\\t\\t',y['A'][q_state]/2000)\n",
    "\n",
    "print()\n",
    "\n",
    "max_key = max(y['A'].items(), key = operator.itemgetter(1))[0]\n",
    "print(\"The pattern has been found at index i =\",bin_to_dec(max_key))"
   ]
  },
  {
   "cell_type": "markdown",
   "id": "7c618518",
   "metadata": {},
   "source": [
    "# Plot"
   ]
  },
  {
   "cell_type": "markdown",
   "id": "93db1f5d",
   "metadata": {},
   "source": [
    "This plot shows probability vs all states available (created by 3 qubits). Notice that the one that has been measured with more frequency corresponds to the one we were searching for. We can see that the state with highest frequency is $|2\\rangle$ meaning that the pattern $|p\\rangle$ is located at index 2 of the string $|w\\rangle$."
   ]
  },
  {
   "cell_type": "code",
   "execution_count": 221,
   "id": "3ea882f0",
   "metadata": {},
   "outputs": [
    {
     "data": {
      "image/png": "[encoded data removed]",
      "text/plain": [
       "<Figure size 432x288 with 1 Axes>"
      ]
     },
     "metadata": {
      "needs_background": "light"
     },
     "output_type": "display_data"
    }
   ],
   "source": [
    "# FINDING STATE \n",
    "x = list(y['A'])\n",
    "prob = [y['A'][el]/2000 for el in x] # elevating coeficients = probability \n",
    "y_error = 1/m.sqrt(2000)\n",
    "fig, ax = plt.subplots()\n",
    " \n",
    "ax.bar(x, prob, width=1, edgecolor=\"white\",color = \"darkviolet\", linewidth=0.7)\n",
    "ax.bar(max_key, max(prob), width=1, edgecolor=\"white\",color = \"darkorange\", linewidth=0.7)\n",
    "ax.bar(x[3], prob[3], width=1, edgecolor=\"white\",color = \"darkorange\", linewidth=0.7)\n",
    "\n",
    "ax.set(ylim=(0, 1), xlabel = 'States', ylabel = 'Probability')\n",
    "plt.errorbar(x, prob,  yerr=y_error, fmt = 'o', ms=3, color='black', elinewidth = 3, capsize = 10, capthick = 1.5)\n",
    "\n",
    "plt.show()"
   ]
  }
 ],
 "metadata": {
  "kernelspec": {
   "display_name": "Python 3",
   "language": "python",
   "name": "python3"
  },
  "language_info": {
   "codemirror_mode": {
    "name": "ipython",
    "version": 3
   },
   "file_extension": ".py",
   "mimetype": "text/x-python",
   "name": "python",
   "nbconvert_exporter": "python",
   "pygments_lexer": "ipython3",
   "version": "3.8.8"
  }
 },
 "nbformat": 4,
 "nbformat_minor": 5
}
