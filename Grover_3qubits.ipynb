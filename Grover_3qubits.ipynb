{
 "cells": [
  {
   "cell_type": "markdown",
   "id": "221c4ad4",
   "metadata": {},
   "source": [
    "## GROVER'S ALGORITHM 3 QUBITS"
   ]
  },
  {
   "cell_type": "code",
   "execution_count": 1,
   "id": "3aaa8f67",
   "metadata": {},
   "outputs": [
    {
     "name": "stderr",
     "output_type": "stream",
     "text": [
      "[Qibo 0.1.6|INFO|2022-02-17 14:22:26]: Using numpy backend on /CPU:0\n",
      "[Qibo 0.1.6|WARNING|2022-02-17 14:22:26]: numpy backend uses `np.einsum` and supports CPU only. Consider installing the qibojit or qibotf backends for increased performance and to enable GPU acceleration.\n"
     ]
    }
   ],
   "source": [
    "import numpy as np\n",
    "from qibo.models import Circuit\n",
    "from qibo import gates\n",
    "from qibo import callbacks\n",
    "import matplotlib.pyplot as plt "
   ]
  },
  {
   "cell_type": "markdown",
   "id": "1bf9317f",
   "metadata": {},
   "source": [
    "### Oracle"
   ]
  },
  {
   "cell_type": "code",
   "execution_count": 2,
   "id": "db284d18",
   "metadata": {},
   "outputs": [],
   "source": [
    "def MCZ(q0,q1,q2): # defining multi-controlled Z function \n",
    "    c.add(gates.H(q0))\n",
    "    c.add(gates.TOFFOLI(q2,q1,q0))\n",
    "    c.add(gates.H(q0))\n",
    "    return c "
   ]
  },
  {
   "cell_type": "code",
   "execution_count": 3,
   "id": "aed9b081",
   "metadata": {},
   "outputs": [],
   "source": [
    "def oracle(q0,q1,q2): \n",
    "    c.add(gates.X(q2)) \n",
    "    MCZ(q0,q1,q2)\n",
    "    c.add(gates.X(q2))\n",
    "    return c "
   ]
  },
  {
   "cell_type": "markdown",
   "id": "b1204c38",
   "metadata": {},
   "source": [
    "### Difussion operator"
   ]
  },
  {
   "cell_type": "code",
   "execution_count": 4,
   "id": "8a836b7f",
   "metadata": {},
   "outputs": [],
   "source": [
    "def difussion(q0,q1,q2): \n",
    "    for i in range(0,3):\n",
    "        c.add(gates.H(i))\n",
    "        \n",
    "    for i in range(0,3):\n",
    "        c.add(gates.X(i))\n",
    "        \n",
    "    MCZ(q0,q1,q2)\n",
    "    \n",
    "    for i in range(0,3):\n",
    "        c.add(gates.X(i))\n",
    "        \n",
    "    for i in range(0,3):\n",
    "        c.add(gates.H(i))\n",
    "    return c"
   ]
  },
  {
   "cell_type": "markdown",
   "id": "fe0289f0",
   "metadata": {},
   "source": [
    "### GROVER'S ALGORITHM 1 ITERATION"
   ]
  },
  {
   "cell_type": "code",
   "execution_count": 29,
   "id": "7cb8573b",
   "metadata": {},
   "outputs": [
    {
     "name": "stdout",
     "output_type": "stream",
     "text": [
      "q0: ─H─H─X─H─H─X─H─X─H─X─H─\n",
      "q1: ─H───o─H─X─────o─X─H───\n",
      "q2: ─H─X─o─X─H─X───o─X─H───\n"
     ]
    },
    {
     "data": {
      "image/png": "[encoded data removed]",
      "text/plain": [
       "<Figure size 432x288 with 1 Axes>"
      ]
     },
     "metadata": {
      "needs_background": "light"
     },
     "output_type": "display_data"
    }
   ],
   "source": [
    "c = Circuit(3) # Construct the circuit (2 qubits)\n",
    "\n",
    "for i in range(0,3):\n",
    "    c.add(gates.H(i)) # Add some gates\n",
    "\n",
    "# Rotation of the wanted state\n",
    "oracle(0,1,2) \n",
    "\n",
    "difussion(0,1,2)\n",
    "\n",
    "# Execute the circuit and obtain the final state\n",
    "result = c() # c.execute(initial_state) also works\n",
    "# Draw the circuit\n",
    "print(c.draw())\n",
    "\n",
    "x = ['000','001','010','011','100','101','110','111']\n",
    "y = result.state(numpy=True)\n",
    "\n",
    "prob = [x**2 for x in y] # elevating coeficients \n",
    "\n",
    "fig, ax = plt.subplots()\n",
    "\n",
    "ax.bar(x, prob, width=1, edgecolor=\"white\", linewidth=0.7)\n",
    "ax.set(ylim=(0, 1), xlabel = 'states', ylabel = 'probabilities')\n",
    "\n",
    "i=0 #writes the probability of each state \n",
    "for el in prob:\n",
    "    ax.text(i-0.3,el+0.03, str(round(el.real, 2)), fontsize=10)\n",
    "    i=i+1\n",
    "\n",
    "plt.show()"
   ]
  },
  {
   "cell_type": "markdown",
   "id": "74f5f2a9",
   "metadata": {},
   "source": [
    "### GROVER'S ALGORITHM 2 ITERATION"
   ]
  },
  {
   "cell_type": "code",
   "execution_count": 6,
   "id": "e196be40",
   "metadata": {},
   "outputs": [
    {
     "name": "stdout",
     "output_type": "stream",
     "text": [
      "q0: ─H─H─X─H─H─X─H─X─H─X─H─H─X─H─H─X─H─X─H─X─H─\n",
      "q1: ─H───o─H─X─────o─X─H─────o─H─X─────o─X─H───\n",
      "q2: ─H─X─o─X─H─X───o─X─H─X───o─X─H─X───o─X─H───\n"
     ]
    },
    {
     "data": {
      "image/png": "[encoded data removed]",
      "text/plain": [
       "<Figure size 432x288 with 1 Axes>"
      ]
     },
     "metadata": {
      "needs_background": "light"
     },
     "output_type": "display_data"
    }
   ],
   "source": [
    "c = Circuit(3) # Construct the circuit (2 qubits)\n",
    "\n",
    "for i in range(0,3):\n",
    "    c.add(gates.H(i)) # Add some gates\n",
    "\n",
    "# Rotation of the wanted state\n",
    "oracle(0,1,2) \n",
    "\n",
    "difussion(0,1,2)\n",
    "\n",
    "oracle(0,1,2) \n",
    "\n",
    "difussion(0,1,2)\n",
    "\n",
    "# Execute the circuit and obtain the final state\n",
    "result = c() # c.execute(initial_state) also works\n",
    "# Draw the circuit\n",
    "print(c.draw())\n",
    "\n",
    "x = ['000','001','010','011','100','101','110','111']\n",
    "y = result.state(numpy=True)\n",
    "\n",
    "prob = [x**2 for x in y] # elevating coeficients\n",
    "\n",
    "fig, ax = plt.subplots()\n",
    "\n",
    "ax.bar(x, prob, width=1, edgecolor=\"white\", linewidth=0.7)\n",
    "ax.set(ylim=(0, 1), xlabel = 'states', ylabel = 'probabilities')\n",
    "\n",
    "i=0 #writes the probability of each state \n",
    "for el in prob:\n",
    "    ax.text(i-0.3,el+0.03, str(round(el.real, 2)), fontsize=10)\n",
    "    i=i+1\n",
    "\n",
    "plt.show()"
   ]
  },
  {
   "cell_type": "code",
   "execution_count": null,
   "id": "8553a810",
   "metadata": {},
   "outputs": [],
   "source": []
  }
 ],
 "metadata": {
  "kernelspec": {
   "display_name": "Python 3",
   "language": "python",
   "name": "python3"
  },
  "language_info": {
   "codemirror_mode": {
    "name": "ipython",
    "version": 3
   },
   "file_extension": ".py",
   "mimetype": "text/x-python",
   "name": "python",
   "nbconvert_exporter": "python",
   "pygments_lexer": "ipython3",
   "version": "3.8.8"
  }
 },
 "nbformat": 4,
 "nbformat_minor": 5
}
