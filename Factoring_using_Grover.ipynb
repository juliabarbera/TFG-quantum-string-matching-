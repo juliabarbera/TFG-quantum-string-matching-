{
 "cells": [
  {
   "cell_type": "markdown",
   "id": "985e88b8",
   "metadata": {},
   "source": [
    "# Implement Grover's search algorithm in Qibo"
   ]
  },
  {
   "cell_type": "markdown",
   "id": "05001e54",
   "metadata": {},
   "source": [
    "*Author*: Júlia Barberà, March 10th 2022"
   ]
  },
  {
   "cell_type": "markdown",
   "id": "1153cd07",
   "metadata": {},
   "source": [
    "In this notebook I will try to apply Grover's algorithm to find the factors of a number. As we know, Grover's algorithm finds elements from a unordered list so we will use it to find the divisors of a given decimal number. I want to find the factors of a number $M$ using Grover's algorithm so the steps I will follow are the next ones:\n",
    "\n",
    "1. Create the circuit with the number of qubits corresponding to the bit size of the number M. Then, I will superpose all states that can be made by using that number of qubits.\n",
    "\n",
    "2. Apply the Grover's oracle which will change the sign of all states that can factorise M. \n",
    "\n",
    "\n",
    "2. Implement Grover's diffusion operator in order to amplificate these solution states. \n",
    "\n",
    "\n",
    "3. Execute the circuit and plot what it's been measured. Factor numbers will have more probability than the ones that aren't solution.  "
   ]
  },
  {
   "cell_type": "code",
   "execution_count": 2,
   "id": "517cf3ff",
   "metadata": {},
   "outputs": [],
   "source": [
    "# Import all libraries that I will use\n",
    "import numpy as np\n",
    "import math as m\n",
    "from qibo.models import Circuit\n",
    "from qibo import gates\n",
    "from qibo import callbacks\n",
    "import matplotlib.pyplot as plt\n",
    "from matplotlib.pyplot import figure\n",
    "import time "
   ]
  },
  {
   "cell_type": "markdown",
   "id": "5b2a4ab7",
   "metadata": {},
   "source": [
    "### Binary to decimal function"
   ]
  },
  {
   "cell_type": "markdown",
   "id": "562029d5",
   "metadata": {},
   "source": [
    "This function takes as input the integer I need to convert it to binary number.  \n",
    "First, it uses an integrated python function to convert the number into a binary string and then it removes first two digits \"0b\"."
   ]
  },
  {
   "cell_type": "code",
   "execution_count": 3,
   "id": "01ec9f2e",
   "metadata": {},
   "outputs": [],
   "source": [
    "def dec_to_binary(x):\n",
    "    s = bin(x)\n",
    "    s1 = s[2:] #removes \"0b\"\n",
    "    return s1"
   ]
  },
  {
   "cell_type": "markdown",
   "id": "f5761e8e",
   "metadata": {},
   "source": [
    "The following function generates a list with dimension = $nqubits$ of the binary digits of a decimal number. "
   ]
  },
  {
   "cell_type": "code",
   "execution_count": 4,
   "id": "e8bc4159",
   "metadata": {},
   "outputs": [],
   "source": [
    "def bin_list(dec,nqubits): \n",
    "    binary = format(dec,'0{}b'.format(nqubits))\n",
    "    return list(map(int, str(binary)))"
   ]
  },
  {
   "cell_type": "markdown",
   "id": "3296927e",
   "metadata": {},
   "source": [
    "### Multi-controlled Z gate "
   ]
  },
  {
   "cell_type": "markdown",
   "id": "3b14efc2",
   "metadata": {},
   "source": [
    "The CZ gate is used to invert the phase of the state $|11...1\\rangle$. To make it easier we can express the CZ gate in terms of other quantum logic gates: $Z = H X H$. \n",
    "So the MCZ of the circuit will have the following transformation: "
   ]
  },
  {
   "attachments": {
    "MCZ.png": {
     "image/png": "[encoded data removed]"
    }
   },
   "cell_type": "markdown",
   "id": "1de757f9",
   "metadata": {},
   "source": [
    "![MCZ.png](attachment:MCZ.png)"
   ]
  },
  {
   "cell_type": "markdown",
   "id": "446ab844",
   "metadata": {},
   "source": [
    "It takes the target (q0) and the number of qubits as an input and returns the circuit after applying the MCZ gate.\n",
    "We will use this gate for the Oracle and the Diffusion operator. "
   ]
  },
  {
   "cell_type": "code",
   "execution_count": 5,
   "id": "f0388193",
   "metadata": {},
   "outputs": [],
   "source": [
    "def MCZ(q0,nqubits): # defining multi-controlled Z function \n",
    "    c.add(gates.H(q0))\n",
    "    c.add(gates.X(q0).controlled_by(*range(1,nqubits)))\n",
    "    c.add(gates.H(q0))\n",
    "    return c "
   ]
  },
  {
   "cell_type": "markdown",
   "id": "5f2516d6",
   "metadata": {},
   "source": [
    "### Quantum operation to check if a number is a divisor: $U_w$"
   ]
  },
  {
   "cell_type": "markdown",
   "id": "4d9f5192",
   "metadata": {},
   "source": [
    "The Grover's oracle generates a reflection to the state we want to find. Imagine we have the following superposition ($nqubits = 2$): $|s\\rangle = \\frac{1}{\\sqrt{2}} (|00 \\rangle +|01 \\rangle +|10 \\rangle +|11 \\rangle) $ and I want to find the state $|10 \\rangle$. When I apply the oracle to the initial state it will turn into: <center> $U_w|s\\rangle = \\frac{1}{\\sqrt{2}} (|00 \\rangle +|01 \\rangle -|10 \\rangle +|11 \\rangle) $ \n",
    "    \n",
    "We can recognize that the CZ quantum gate is the one that performs this operation. But firstly, I will create a classical diagonal matrix filled with ones on the diagonal except the position that corresponds to states which are solution of the problem, they will have the value -1 in order to flip the state.  The function proceeds in this way: "
   ]
  },
  {
   "cell_type": "markdown",
   "id": "2b2b868b",
   "metadata": {},
   "source": [
    "It takes the bit size of the dividend and a list of all states (numbers that are solution of the problem) as the input. \n",
    "\n",
    "1. Creates an square matrix filled with 0 with the number of qubits as the size of it. It also generates a list of all states available considering the number of qubits. \n",
    "\n",
    "2. At the diagonal position that corresponds to the factor divisor, adds a -1 and removes this state from the list that contains all of them. \n",
    "\n",
    "3. Using the states list, the ones that remain are the ones that aren't solution of the problem so it adds a +1 at their diagonal position. \n",
    "\n",
    "The function returns the circuit after applying the matrix to all qubits. "
   ]
  },
  {
   "cell_type": "code",
   "execution_count": 6,
   "id": "a37c26d3",
   "metadata": {},
   "outputs": [],
   "source": [
    "def Mark_Divisor_matrix(bit_size, divisor):\n",
    "    \n",
    "    inv_matrix = np.zeros( (2**bit_size, 2**bit_size) ) #empty matrix \n",
    "    states = list(range(2**bit_size))\n",
    "    \n",
    "    for div in divisor:\n",
    "        inv_matrix[div][div] = -1 #add a -1 in order to flip the state\n",
    "        states.remove(div)\n",
    "        \n",
    "    for el in states:\n",
    "        inv_matrix[el][el] = 1 \n",
    "    \n",
    "    return c.add(gates.Unitary(inv_matrix,*range(0,bit_size)))"
   ]
  },
  {
   "cell_type": "markdown",
   "id": "ea90d6d6",
   "metadata": {},
   "source": [
    "The matrix that we need has de following shape diag{1,-1,-1,1,-1,1,1,1,1} if we want to factorise, for example, number 4. It has to have the diagonal filled with ones and a -1 at the position of divisors.\n",
    "\n",
    "As previously mentioned, there must be a way to accomplish this reflection using quantum gates. One can tell intuitively that X quantum gate and Z gate will be the ones performing this operation. These one-single-qubit gates correspond to following matrices: \n",
    "\n",
    "<br>\n",
    "\n",
    "<center> $X = \\begin{bmatrix} 0 & 1 \\\\ 1 & 0 \\end{bmatrix}$, $Z = \\begin{bmatrix} 1 & 0 \\\\ 0 & -1 \\end{bmatrix}$ </center>\n",
    "    \n",
    "<br>\n",
    "    \n",
    "Firstly, the X gate will be used to move the state that needs to be find to the last diagonal position. Once this has been achieved, Z gate (or CZ or MCZ in case the circuit has more than 1 qubit) will be add to the circuit in order to flip the state located at the last diagonal entry. At the end, we will have to invert states' order by applying the same procedure we did to move them: using X gate.\n",
    "    \n",
    "In conclusion, this function takes as input the dimension of the hilbert subspace and a list with divisors of a number. The next steps are described below:  \n",
    "    \n",
    "1.Checks if any factor included in the input list corresponds to the last state that can be made with $2^{nqubits}$. If that's the case, there's no need to apply X gates as we already have the state in the position we want. The MCZ gate is applied with $range(nqubits - 1)$ as control qubits and $(nqubits - 1)$ the target in order to flip the state. \n",
    "    \n",
    "2.If the factor is not the last state, X gates have to be applied in order to move the state. \n",
    "    \n",
    "- The first thing we will do is create a list of ones with dimension = $nqubits$ equivalent to the last binary state.We will use this list to compare the binary digits between this state and the factor. \n",
    "- Then, X gates will be applied to move the state. If the first qubit of the final state is not equal to the factor's first digit, the X gate will be applied to that qubit as it transforms $|0\\rangle$ to $|1\\rangle$ and the other way around. We will do that procedure for all the qubits that compose the state. \n",
    "- MCZ will be add after the previous step and will flip the factor's state.\n",
    "- We will invert states' position in order to have them in the way we had at the begining. We will use X gates to do so. "
   ]
  },
  {
   "cell_type": "code",
   "execution_count": 7,
   "id": "f44ebe03",
   "metadata": {},
   "outputs": [],
   "source": [
    "def Mark_Divisor(nqubits,state):\n",
    "    \n",
    "    for s in state:\n",
    "        if state == (2**nqubits -1) :\n",
    "            c.add(gates.Z(nqubits - 1).controlled_by(*range(nqubits - 1)))\n",
    "        else:\n",
    "            final_st = np.ones((nqubits,), dtype=int) #last state available\n",
    "            binary = bin_list(s,nqubits) #decimal to binary integer list\n",
    "            \n",
    "            for i in range(len(final_st)): # Moving \"state\" to the last diagonal position\n",
    "                if (binary[i] != final_st[i]):\n",
    "                    c.add(gates.X(i))  \n",
    "                \n",
    "            c.add(gates.Z(nqubits - 1).controlled_by(*range(nqubits - 1))) \n",
    "        \n",
    "            for i in range(len(final_st)): \n",
    "                if (binary[i] != final_st[i]):\n",
    "                    c.add(gates.X(i))"
   ]
  },
  {
   "cell_type": "markdown",
   "id": "8cbb7d6b",
   "metadata": {},
   "source": [
    "### Grover's diffusion operator: $U_s$"
   ]
  },
  {
   "cell_type": "markdown",
   "id": "7762522d",
   "metadata": {},
   "source": [
    "This operator, expressed like: $U_s = 2|s\\rangle \\langle s | - I$,  will be applied after the Oracle, and will perform an extra reflection to the state $U_w |s\\rangle$. It will aplificate the state we want to find, making it have a much greater probability than the other ones. The Diffusion operator will have the following universal form : "
   ]
  },
  {
   "attachments": {
    "Difusion_op.png": {
     "image/png": "[encoded data removed]"
    }
   },
   "cell_type": "markdown",
   "id": "e1cea12c",
   "metadata": {},
   "source": [
    "![Difusion_op.png](attachment:Difusion_op.png)"
   ]
  },
  {
   "cell_type": "markdown",
   "id": "fb3bef63",
   "metadata": {},
   "source": [
    "The hadamard gates will create a superposition of all states. Then, the X gate performs a qubit-flip (it is the equivalent to the NOT classical gate) so it makes a rotation by π radians around the x-axis of the Bloch sphere. When we have the states fliped..."
   ]
  },
  {
   "cell_type": "code",
   "execution_count": 8,
   "id": "7091fddb",
   "metadata": {},
   "outputs": [],
   "source": [
    "def diffusion(q0,nqubits): \n",
    "\n",
    "    c.add([gates.H(i) for i in range(nqubits)])    \n",
    "    c.add([gates.X(i) for i in range(nqubits)])\n",
    "    MCZ(q0,nqubits) #q0 is the target and the other ones, control qubits\n",
    "    c.add([gates.X(i) for i in range(nqubits)])\n",
    "    c.add([gates.H(i) for i in range(nqubits)])\n",
    "    \n",
    "    return c"
   ]
  },
  {
   "cell_type": "markdown",
   "id": "f76e429c",
   "metadata": {},
   "source": [
    "### Main code"
   ]
  },
  {
   "cell_type": "markdown",
   "id": "c475889a",
   "metadata": {},
   "source": [
    "The code follows the next procedure to find factors of a given number: \n",
    "    \n",
    "1. Asks the number you want to find: the dividend and ccomputes the bit size of this number.\n",
    "\n",
    "2. Divides the dividend by all numbers which are candidates to be a factor of it. This means that, if the remainder is equal to 0 we will save the number (state) in a list and if it's not we won't do anything. I will leave 0 number out of the list as it's never a factor of any number and in order to avoid divergences. \n",
    "\n",
    "3. Calculates R corresponding to repetitions of the Grover's iterator. The more times we apply the oracle, the higher probability we will get. (demonstration of the following equation will be shown here) \n",
    "<br>\n",
    "\n",
    "<center> $R = \\frac{\\pi}{4}\\cdot \\sqrt{\\frac{N}{M}}$ </center>\n",
    "\n",
    "<br>\n",
    "\n",
    "3. Starts a loop where it will run the full Grover's algorithm for each R by applying the Grover's iterator.\n",
    "\n",
    "4. Executes the circuit in order to find the resulta and draws the circuit. "
   ]
  },
  {
   "cell_type": "code",
   "execution_count": 9,
   "id": "72d67ef9",
   "metadata": {},
   "outputs": [
    {
     "name": "stdout",
     "output_type": "stream",
     "text": [
      "Which number do you want to factorize? 13\n",
      "\n",
      "Optimal times to apply the oracle =  2\n",
      "\n",
      "q0: ─H─X─o─X───o─H─X─H─X─H─X─H─X─o─X───o─H─X─H─X─H─X─H─\n",
      "q1: ─H─X─o─X───o─H─X───o─X─H─X───o─X───o─H─X───o─X─H───\n",
      "q2: ─H─X─o─X─X─o─X─H─X─o─X─H─X───o─X─X─o─X─H─X─o─X─H───\n",
      "q3: ─H───Z─────Z─H─X───o─X─H─────Z─────Z─H─X───o─X─H───\n",
      "\n",
      "The number 1 is a factor of 13\n",
      "The number 13 is a factor of 13\n"
     ]
    }
   ],
   "source": [
    "dividend = int(input(\"Which number do you want to factorize? \"))\n",
    "bit_size = len(dec_to_binary(dividend)) #Converts decimal number into binary and calculates bit size \n",
    "factors = [ ]\n",
    "max_probs = { }\n",
    "print()\n",
    "\n",
    "#Finds factors of M (with remainder 0)\n",
    "divisors = range(1,2**bit_size) # left 0 out of the list\n",
    "for div in divisors:\n",
    "    if (dividend % div) == 0:\n",
    "        factors.append(div)\n",
    "\n",
    "N_opt = round((np.pi/4)*np.sqrt(2**bit_size)/len(factors)) \n",
    "print(\"Optimal times to apply the oracle = \", N_opt)\n",
    "print()\n",
    "\n",
    "for i in range(1,N_opt+1):\n",
    "    \n",
    "    c = Circuit(bit_size) # Constructs the circuit (2 qubits)\n",
    "    c.add([gates.H(i) for i in range(bit_size)])\n",
    "\n",
    "    for j in range(i):\n",
    "        Mark_Divisor(bit_size, factors)\n",
    "        diffusion(0,bit_size)\n",
    "         \n",
    "    # Executes the circuit and obtain the final state\n",
    "    result = c()\n",
    "    y = result.state(numpy=True)\n",
    "    prob = [ ]\n",
    "    for el in factors:\n",
    "        prob.append(y[el].real*y[el].real)\n",
    "        \n",
    "    max_probs[str(i)] = prob\n",
    "\n",
    "# Draws the circuit\n",
    "print(c.draw())\n",
    "print()\n",
    "for el in factors:\n",
    "    print(\"The number\", el, \"is a factor of\", dividend)"
   ]
  },
  {
   "cell_type": "markdown",
   "id": "22e03076",
   "metadata": {},
   "source": [
    "### Plots"
   ]
  },
  {
   "cell_type": "markdown",
   "id": "366fee63",
   "metadata": {},
   "source": [
    "This plot will show from all states available (created by nqubits), the ones with more probability which correspond to solutions of the problem. These numbers (or states) will be the factors of the dividend I have given. "
   ]
  },
  {
   "cell_type": "code",
   "execution_count": 10,
   "id": "896b76c2",
   "metadata": {},
   "outputs": [
    {
     "data": {
      "image/png": "[encoded data removed]",
      "text/plain": [
       "<Figure size 720x432 with 1 Axes>"
      ]
     },
     "metadata": {
      "needs_background": "light"
     },
     "output_type": "display_data"
    },
    {
     "data": {
      "image/png": "[encoded data removed]",
      "text/plain": [
       "<Figure size 432x288 with 1 Axes>"
      ]
     },
     "metadata": {
      "needs_background": "light"
     },
     "output_type": "display_data"
    }
   ],
   "source": [
    "# FINDING STATE \n",
    "x = range(2**bit_size)\n",
    "prob = [x.real*x.real for x in y] # elevating coeficients = probability \n",
    "\n",
    "fig, ax = plt.subplots()\n",
    "ax.bar(x, prob, width=1, edgecolor=\"white\",color = \"darkviolet\", linewidth=0.7)\n",
    "ax.set(ylim=(0, 1), xlabel = \"Factors\", ylabel = 'Probabilities')\n",
    "plt.xticks(x)\n",
    "plt.gcf().set_size_inches(10, 6) # changes plot size\n",
    "\n",
    "for el in factors: \n",
    "    ax.text(el - 0.3, prob[el]+ 0.03, str(round(prob[el],2)), fontsize=10) #Writes probability\n",
    "\n",
    "plt.show()\n",
    "\n",
    "# MAX. PROBABILIY \n",
    "oracle_times = range(N_opt)\n",
    "for i in range(len(oracle_times)):\n",
    "    for j in range (len(max_probs[str(i+1)])):\n",
    "        el = max_probs[str(i+1)][j]\n",
    "        plt.plot(oracle_times[i], el ,'o', color = \"darkviolet\")\n",
    "        plt.text(oracle_times[i], el + 0.03, str(round(el.real, 2)), fontsize=10) #Writes probability\n",
    "    \n",
    "plt.xlim([0 -0.09 ,N_opt -0.9])\n",
    "plt.ylim([0,1.1])\n",
    "plt.xlabel('Iteration')\n",
    "plt.ylabel('Factor probability') \n",
    "    \n",
    "plt.show()"
   ]
  }
 ],
 "metadata": {
  "kernelspec": {
   "display_name": "Python 3",
   "language": "python",
   "name": "python3"
  },
  "language_info": {
   "codemirror_mode": {
    "name": "ipython",
    "version": 3
   },
   "file_extension": ".py",
   "mimetype": "text/x-python",
   "name": "python",
   "nbconvert_exporter": "python",
   "pygments_lexer": "ipython3",
   "version": "3.8.8"
  }
 },
 "nbformat": 4,
 "nbformat_minor": 5
}
